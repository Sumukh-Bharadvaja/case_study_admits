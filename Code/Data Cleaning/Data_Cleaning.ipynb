{
 "cells": [
  {
   "cell_type": "markdown",
   "metadata": {},
   "source": [
    "# Business Case Study"
   ]
  },
  {
   "cell_type": "markdown",
   "metadata": {},
   "source": [
    "- The main focus is to evaluate the business data od admits based on deposits by program .\n",
    "- In order to study the number of deposits in diferent programs , we will evaluate the deposits given in MM/DD/YYYY format and showcase overall distribution of data using powerfull visualisation tool such as Power BI."
   ]
  },
  {
   "cell_type": "markdown",
   "metadata": {},
   "source": [
    "Importing the Necessary Libraries"
   ]
  },
  {
   "cell_type": "code",
   "execution_count": 1,
   "metadata": {},
   "outputs": [],
   "source": [
    "import pandas as pd\n",
    "import numpy as np\n",
    "from scipy import stats\n",
    "import seaborn as sns\n",
    "import matplotlib.pyplot as plt\n",
    "import textdistance\n",
    "\n",
    "import warnings\n",
    "warnings.filterwarnings('ignore')"
   ]
  },
  {
   "cell_type": "code",
   "execution_count": 2,
   "metadata": {},
   "outputs": [
    {
     "data": {
      "text/html": [
       "<div>\n",
       "<style scoped>\n",
       "    .dataframe tbody tr th:only-of-type {\n",
       "        vertical-align: middle;\n",
       "    }\n",
       "\n",
       "    .dataframe tbody tr th {\n",
       "        vertical-align: top;\n",
       "    }\n",
       "\n",
       "    .dataframe thead th {\n",
       "        text-align: right;\n",
       "    }\n",
       "</style>\n",
       "<table border=\"1\" class=\"dataframe\">\n",
       "  <thead>\n",
       "    <tr style=\"text-align: right;\">\n",
       "      <th></th>\n",
       "      <th>Contact_ID</th>\n",
       "      <th>Start_Term_and_Year</th>\n",
       "      <th>Program_Desc</th>\n",
       "      <th>IPEDS_Ethnicities</th>\n",
       "      <th>IPEDS_Hispanic</th>\n",
       "      <th>Sex</th>\n",
       "      <th>Created_Date</th>\n",
       "      <th>Complete_Date</th>\n",
       "      <th>Admit_Date</th>\n",
       "      <th>Deposit_Date</th>\n",
       "    </tr>\n",
       "  </thead>\n",
       "  <tbody>\n",
       "    <tr>\n",
       "      <th>0</th>\n",
       "      <td>1.0</td>\n",
       "      <td>Spring 2021</td>\n",
       "      <td>Technology Management - MS</td>\n",
       "      <td>Asian</td>\n",
       "      <td>Non-Hispanic</td>\n",
       "      <td>Male</td>\n",
       "      <td>5/22/2020</td>\n",
       "      <td>NaN</td>\n",
       "      <td>NaN</td>\n",
       "      <td>NaN</td>\n",
       "    </tr>\n",
       "    <tr>\n",
       "      <th>1</th>\n",
       "      <td>2.0</td>\n",
       "      <td>Fall 2020</td>\n",
       "      <td>Business Administration - MBA</td>\n",
       "      <td>White/Caucasian</td>\n",
       "      <td>Non-Hispanic</td>\n",
       "      <td>Female</td>\n",
       "      <td>3/30/2020</td>\n",
       "      <td>4/15/2020</td>\n",
       "      <td>4/24/2020</td>\n",
       "      <td>NaN</td>\n",
       "    </tr>\n",
       "    <tr>\n",
       "      <th>2</th>\n",
       "      <td>3.0</td>\n",
       "      <td>Fall 2019</td>\n",
       "      <td>Accounting - MS</td>\n",
       "      <td>Prefer to not respond</td>\n",
       "      <td>Non-Hispanic</td>\n",
       "      <td>Male</td>\n",
       "      <td>8/30/2018</td>\n",
       "      <td>NaN</td>\n",
       "      <td>NaN</td>\n",
       "      <td>NaN</td>\n",
       "    </tr>\n",
       "    <tr>\n",
       "      <th>3</th>\n",
       "      <td>4.0</td>\n",
       "      <td>Fall 2020</td>\n",
       "      <td>Management - MS</td>\n",
       "      <td>White/Caucasian</td>\n",
       "      <td>Non-Hispanic</td>\n",
       "      <td>Male</td>\n",
       "      <td>7/29/2020</td>\n",
       "      <td>NaN</td>\n",
       "      <td>NaN</td>\n",
       "      <td>NaN</td>\n",
       "    </tr>\n",
       "    <tr>\n",
       "      <th>4</th>\n",
       "      <td>5.0</td>\n",
       "      <td>Spring 2022</td>\n",
       "      <td>Real Estate Development - MS</td>\n",
       "      <td>Asian</td>\n",
       "      <td>Non-Hispanic</td>\n",
       "      <td>Male</td>\n",
       "      <td>2/26/2021</td>\n",
       "      <td>12/2/2021</td>\n",
       "      <td>3/1/2022</td>\n",
       "      <td>1/11/2022</td>\n",
       "    </tr>\n",
       "    <tr>\n",
       "      <th>...</th>\n",
       "      <td>...</td>\n",
       "      <td>...</td>\n",
       "      <td>...</td>\n",
       "      <td>...</td>\n",
       "      <td>...</td>\n",
       "      <td>...</td>\n",
       "      <td>...</td>\n",
       "      <td>...</td>\n",
       "      <td>...</td>\n",
       "      <td>...</td>\n",
       "    </tr>\n",
       "    <tr>\n",
       "      <th>2361</th>\n",
       "      <td>2363.0</td>\n",
       "      <td>Fall 2022</td>\n",
       "      <td>Accounting - MS</td>\n",
       "      <td>Asian</td>\n",
       "      <td>Non-Hispanic</td>\n",
       "      <td>Female</td>\n",
       "      <td>11/25/2021</td>\n",
       "      <td>1/25/2022 21:15</td>\n",
       "      <td>NaN</td>\n",
       "      <td>NaN</td>\n",
       "    </tr>\n",
       "    <tr>\n",
       "      <th>2362</th>\n",
       "      <td>2364.0</td>\n",
       "      <td>Fal 2021</td>\n",
       "      <td>Business Administration - MBA</td>\n",
       "      <td>Asian</td>\n",
       "      <td>Non-Hispanic</td>\n",
       "      <td>Female</td>\n",
       "      <td>1/1/2021</td>\n",
       "      <td>5/6/2021 12:41</td>\n",
       "      <td>NaN</td>\n",
       "      <td>NaN</td>\n",
       "    </tr>\n",
       "    <tr>\n",
       "      <th>2363</th>\n",
       "      <td>2365.0</td>\n",
       "      <td>Fall 2022</td>\n",
       "      <td>Business Administration - MBA</td>\n",
       "      <td>Black/African American</td>\n",
       "      <td>Non-Hispanic</td>\n",
       "      <td>Female</td>\n",
       "      <td>1/14/2021</td>\n",
       "      <td>9/20/2021 11:06</td>\n",
       "      <td>9/20/2021 11:06</td>\n",
       "      <td>NaN</td>\n",
       "    </tr>\n",
       "    <tr>\n",
       "      <th>2364</th>\n",
       "      <td>2366.0</td>\n",
       "      <td>Fall 2020</td>\n",
       "      <td>Management - MS</td>\n",
       "      <td>White/Caucasian</td>\n",
       "      <td>Non-Hispanic</td>\n",
       "      <td>Male</td>\n",
       "      <td>7/14/2020</td>\n",
       "      <td>8/4/2020</td>\n",
       "      <td>8/13/2020</td>\n",
       "      <td>NaN</td>\n",
       "    </tr>\n",
       "    <tr>\n",
       "      <th>2365</th>\n",
       "      <td>2367.0</td>\n",
       "      <td>Fall 2022</td>\n",
       "      <td>Finance - MS</td>\n",
       "      <td>Pacific Islander</td>\n",
       "      <td>Hispanic</td>\n",
       "      <td>Male</td>\n",
       "      <td>1/28/2020</td>\n",
       "      <td>4/6/2022 16:13</td>\n",
       "      <td>NaN</td>\n",
       "      <td>NaN</td>\n",
       "    </tr>\n",
       "  </tbody>\n",
       "</table>\n",
       "<p>2366 rows × 10 columns</p>\n",
       "</div>"
      ],
      "text/plain": [
       "      Contact_ID Start_Term_and_Year                   Program_Desc  \\\n",
       "0            1.0         Spring 2021     Technology Management - MS   \n",
       "1            2.0           Fall 2020  Business Administration - MBA   \n",
       "2            3.0           Fall 2019                Accounting - MS   \n",
       "3            4.0           Fall 2020                Management - MS   \n",
       "4            5.0         Spring 2022   Real Estate Development - MS   \n",
       "...          ...                 ...                            ...   \n",
       "2361      2363.0           Fall 2022                Accounting - MS   \n",
       "2362      2364.0            Fal 2021  Business Administration - MBA   \n",
       "2363      2365.0           Fall 2022  Business Administration - MBA   \n",
       "2364      2366.0           Fall 2020                Management - MS   \n",
       "2365      2367.0           Fall 2022                   Finance - MS   \n",
       "\n",
       "           IPEDS_Ethnicities IPEDS_Hispanic     Sex Created_Date  \\\n",
       "0                      Asian   Non-Hispanic    Male    5/22/2020   \n",
       "1            White/Caucasian   Non-Hispanic  Female    3/30/2020   \n",
       "2      Prefer to not respond   Non-Hispanic    Male    8/30/2018   \n",
       "3            White/Caucasian   Non-Hispanic    Male    7/29/2020   \n",
       "4                      Asian   Non-Hispanic    Male    2/26/2021   \n",
       "...                      ...            ...     ...          ...   \n",
       "2361                   Asian   Non-Hispanic  Female   11/25/2021   \n",
       "2362                   Asian   Non-Hispanic  Female     1/1/2021   \n",
       "2363  Black/African American   Non-Hispanic  Female    1/14/2021   \n",
       "2364         White/Caucasian   Non-Hispanic    Male    7/14/2020   \n",
       "2365        Pacific Islander       Hispanic    Male    1/28/2020   \n",
       "\n",
       "        Complete_Date       Admit_Date Deposit_Date  \n",
       "0                 NaN              NaN          NaN  \n",
       "1           4/15/2020        4/24/2020          NaN  \n",
       "2                 NaN              NaN          NaN  \n",
       "3                 NaN              NaN          NaN  \n",
       "4           12/2/2021         3/1/2022    1/11/2022  \n",
       "...               ...              ...          ...  \n",
       "2361  1/25/2022 21:15              NaN          NaN  \n",
       "2362   5/6/2021 12:41              NaN          NaN  \n",
       "2363  9/20/2021 11:06  9/20/2021 11:06          NaN  \n",
       "2364         8/4/2020        8/13/2020          NaN  \n",
       "2365   4/6/2022 16:13              NaN          NaN  \n",
       "\n",
       "[2366 rows x 10 columns]"
      ]
     },
     "execution_count": 2,
     "metadata": {},
     "output_type": "execute_result"
    }
   ],
   "source": [
    "data=pd.read_csv(r\"Sample_Data.csv\")\n",
    "#Show the data\n",
    "data"
   ]
  },
  {
   "cell_type": "markdown",
   "metadata": {},
   "source": [
    "There are 10 Columns whose description are as follows:\n",
    "\n",
    "* **Contact_ID** : Unique ID assigned to each case of admits in a particular college university.\n",
    "* **Start_Term_and_Year** : Start Term and year of student admitted.\n",
    "* **Program_Desc** : The program description such as the Major for ehich student is admitted and type of degree.\n",
    "* **IPEDS_Ethnicities** : Student description which specifies the ethnicity from which student is originated.\n",
    "* **IPEDS_Hispanic** :  Describes whether the students belongs to Hispanic or Non-Hispanic Group.\n",
    "* **Sex** : Specifies whether the student is Male or Female or Prefer not to Answer.\n",
    "* **Created_Date** : Creation date of the student record on the database.\n",
    "* **Completed_data** : Specifies the completion date of the student record on the database.\n",
    "* **Admit_Date** : Specifies the admission date of the student.\n",
    "* **Deposit_Date** : Specifies the date when the amount is deposited for the admission purposes."
   ]
  },
  {
   "cell_type": "markdown",
   "metadata": {},
   "source": [
    "Check the description of the data values and types "
   ]
  },
  {
   "cell_type": "code",
   "execution_count": 3,
   "metadata": {},
   "outputs": [
    {
     "name": "stdout",
     "output_type": "stream",
     "text": [
      "<class 'pandas.core.frame.DataFrame'>\n",
      "RangeIndex: 2366 entries, 0 to 2365\n",
      "Data columns (total 10 columns):\n",
      " #   Column               Non-Null Count  Dtype  \n",
      "---  ------               --------------  -----  \n",
      " 0   Contact_ID           2365 non-null   float64\n",
      " 1   Start_Term_and_Year  2365 non-null   object \n",
      " 2   Program_Desc         2365 non-null   object \n",
      " 3   IPEDS_Ethnicities    2365 non-null   object \n",
      " 4   IPEDS_Hispanic       2365 non-null   object \n",
      " 5   Sex                  2365 non-null   object \n",
      " 6   Created_Date         2365 non-null   object \n",
      " 7   Complete_Date        1742 non-null   object \n",
      " 8   Admit_Date           1493 non-null   object \n",
      " 9   Deposit_Date         948 non-null    object \n",
      "dtypes: float64(1), object(9)\n",
      "memory usage: 185.0+ KB\n"
     ]
    }
   ],
   "source": [
    "data.info()"
   ]
  },
  {
   "cell_type": "markdown",
   "metadata": {},
   "source": [
    "* There are some NaN or Null values found in the dataset.\n",
    "* Before proceeding with the data visualisation, we need to clean and remove the data which are null values since the record of each admits is unique and cannot be imputed "
   ]
  },
  {
   "cell_type": "markdown",
   "metadata": {},
   "source": [
    "## Data cleaning"
   ]
  },
  {
   "cell_type": "markdown",
   "metadata": {},
   "source": [
    "Let us first create the separate dataset for the visualisation of the data."
   ]
  },
  {
   "cell_type": "code",
   "execution_count": 4,
   "metadata": {},
   "outputs": [],
   "source": [
    "data_1=data[['Program_Desc','Deposit_Date']]"
   ]
  },
  {
   "cell_type": "code",
   "execution_count": 5,
   "metadata": {},
   "outputs": [
    {
     "data": {
      "text/html": [
       "<div>\n",
       "<style scoped>\n",
       "    .dataframe tbody tr th:only-of-type {\n",
       "        vertical-align: middle;\n",
       "    }\n",
       "\n",
       "    .dataframe tbody tr th {\n",
       "        vertical-align: top;\n",
       "    }\n",
       "\n",
       "    .dataframe thead th {\n",
       "        text-align: right;\n",
       "    }\n",
       "</style>\n",
       "<table border=\"1\" class=\"dataframe\">\n",
       "  <thead>\n",
       "    <tr style=\"text-align: right;\">\n",
       "      <th></th>\n",
       "      <th>Program_Desc</th>\n",
       "      <th>Deposit_Date</th>\n",
       "    </tr>\n",
       "  </thead>\n",
       "  <tbody>\n",
       "    <tr>\n",
       "      <th>0</th>\n",
       "      <td>Technology Management - MS</td>\n",
       "      <td>NaN</td>\n",
       "    </tr>\n",
       "    <tr>\n",
       "      <th>1</th>\n",
       "      <td>Business Administration - MBA</td>\n",
       "      <td>NaN</td>\n",
       "    </tr>\n",
       "    <tr>\n",
       "      <th>2</th>\n",
       "      <td>Accounting - MS</td>\n",
       "      <td>NaN</td>\n",
       "    </tr>\n",
       "    <tr>\n",
       "      <th>3</th>\n",
       "      <td>Management - MS</td>\n",
       "      <td>NaN</td>\n",
       "    </tr>\n",
       "    <tr>\n",
       "      <th>4</th>\n",
       "      <td>Real Estate Development - MS</td>\n",
       "      <td>1/11/2022</td>\n",
       "    </tr>\n",
       "    <tr>\n",
       "      <th>...</th>\n",
       "      <td>...</td>\n",
       "      <td>...</td>\n",
       "    </tr>\n",
       "    <tr>\n",
       "      <th>2361</th>\n",
       "      <td>Accounting - MS</td>\n",
       "      <td>NaN</td>\n",
       "    </tr>\n",
       "    <tr>\n",
       "      <th>2362</th>\n",
       "      <td>Business Administration - MBA</td>\n",
       "      <td>NaN</td>\n",
       "    </tr>\n",
       "    <tr>\n",
       "      <th>2363</th>\n",
       "      <td>Business Administration - MBA</td>\n",
       "      <td>NaN</td>\n",
       "    </tr>\n",
       "    <tr>\n",
       "      <th>2364</th>\n",
       "      <td>Management - MS</td>\n",
       "      <td>NaN</td>\n",
       "    </tr>\n",
       "    <tr>\n",
       "      <th>2365</th>\n",
       "      <td>Finance - MS</td>\n",
       "      <td>NaN</td>\n",
       "    </tr>\n",
       "  </tbody>\n",
       "</table>\n",
       "<p>2366 rows × 2 columns</p>\n",
       "</div>"
      ],
      "text/plain": [
       "                       Program_Desc Deposit_Date\n",
       "0        Technology Management - MS          NaN\n",
       "1     Business Administration - MBA          NaN\n",
       "2                   Accounting - MS          NaN\n",
       "3                   Management - MS          NaN\n",
       "4      Real Estate Development - MS    1/11/2022\n",
       "...                             ...          ...\n",
       "2361                Accounting - MS          NaN\n",
       "2362  Business Administration - MBA          NaN\n",
       "2363  Business Administration - MBA          NaN\n",
       "2364                Management - MS          NaN\n",
       "2365                   Finance - MS          NaN\n",
       "\n",
       "[2366 rows x 2 columns]"
      ]
     },
     "execution_count": 5,
     "metadata": {},
     "output_type": "execute_result"
    }
   ],
   "source": [
    "data_1"
   ]
  },
  {
   "cell_type": "markdown",
   "metadata": {},
   "source": [
    "Dropping the Nan values "
   ]
  },
  {
   "cell_type": "code",
   "execution_count": 6,
   "metadata": {},
   "outputs": [
    {
     "name": "stdout",
     "output_type": "stream",
     "text": [
      "<class 'pandas.core.frame.DataFrame'>\n",
      "Int64Index: 948 entries, 4 to 2360\n",
      "Data columns (total 2 columns):\n",
      " #   Column        Non-Null Count  Dtype \n",
      "---  ------        --------------  ----- \n",
      " 0   Program_Desc  948 non-null    object\n",
      " 1   Deposit_Date  948 non-null    object\n",
      "dtypes: object(2)\n",
      "memory usage: 22.2+ KB\n"
     ]
    }
   ],
   "source": [
    "data_1=data_1.dropna()\n",
    "data_1.info()"
   ]
  },
  {
   "cell_type": "markdown",
   "metadata": {},
   "source": [
    "Now let us convert the deposit_date into data time format "
   ]
  },
  {
   "cell_type": "code",
   "execution_count": 7,
   "metadata": {},
   "outputs": [],
   "source": [
    "data_1['Deposit_Date']=pd.to_datetime(data_1['Deposit_Date'])"
   ]
  },
  {
   "cell_type": "markdown",
   "metadata": {},
   "source": [
    "Check the data for any duplicates and repeatation. Here lets plot a plot for number of deposits on a **Monthly** basis."
   ]
  },
  {
   "cell_type": "code",
   "execution_count": 8,
   "metadata": {},
   "outputs": [
    {
     "data": {
      "text/plain": [
       "<Figure size 4000x4000 with 0 Axes>"
      ]
     },
     "metadata": {},
     "output_type": "display_data"
    },
    {
     "data": {
      "image/png": "[encoded data removed]",
      "text/plain": [
       "<Figure size 640x480 with 1 Axes>"
      ]
     },
     "metadata": {},
     "output_type": "display_data"
    }
   ],
   "source": [
    "# Extracting the month and year from 'Deposit_Date'\n",
    "data_1['Month'] = data_1['Deposit_Date'].dt.strftime('%Y-%m')\n",
    "data_1['Year'] = data_1['Deposit_Date'].dt.strftime('%Y')\n",
    "\n",
    "# Grouping by 'Year' and 'Program_Desc' and counting the occurrences\n",
    "program_year_counts = data_1.groupby(['Year', 'Program_Desc']).size().unstack(fill_value=0)\n",
    "\n",
    "plt.figure(figsize=(40,40))\n",
    "program_year_counts.plot(kind='bar', stacked=True)\n",
    "plt.xlabel('Year')\n",
    "plt.ylabel('Count')\n",
    "plt.title('Count of Deposits by Program and Year')\n",
    "plt.legend(title='Program', loc='upper left', bbox_to_anchor=(1,0.9))\n",
    "plt.xticks(rotation=90)  # Rotating x-axis labels for readability\n",
    "plt.show()"
   ]
  },
  {
   "cell_type": "markdown",
   "metadata": {},
   "source": [
    "As you can see there are alot of duplicated value , hence we would impute this data based on Jaccard Text Distance"
   ]
  },
  {
   "cell_type": "code",
   "execution_count": 9,
   "metadata": {},
   "outputs": [
    {
     "name": "stdout",
     "output_type": "stream",
     "text": [
      "<class 'pandas.core.frame.DataFrame'>\n",
      "Int64Index: 948 entries, 4 to 2360\n",
      "Data columns (total 4 columns):\n",
      " #   Column        Non-Null Count  Dtype         \n",
      "---  ------        --------------  -----         \n",
      " 0   Program_Desc  948 non-null    object        \n",
      " 1   Deposit_Date  948 non-null    datetime64[ns]\n",
      " 2   Month         948 non-null    object        \n",
      " 3   Year          948 non-null    object        \n",
      "dtypes: datetime64[ns](1), object(3)\n",
      "memory usage: 37.0+ KB\n"
     ]
    }
   ],
   "source": [
    "data_1.info()"
   ]
  },
  {
   "cell_type": "code",
   "execution_count": 10,
   "metadata": {},
   "outputs": [],
   "source": [
    "unique_branch = ['Accounting MS','Business Administration - MBA','Real Estate Development - MS','Business - PHD','Finance - MS','Management - MS','Technology Management - MS']\n",
    "\n",
    "comparision_string=None \n",
    "\n",
    "def compare_with_array(column_element):\n",
    "    global comparision_string\n",
    "    return textdistance.jaccard(column_element,comparision_string)\n",
    "\n"
   ]
  },
  {
   "cell_type": "code",
   "execution_count": 11,
   "metadata": {},
   "outputs": [
    {
     "data": {
      "text/html": [
       "<div>\n",
       "<style scoped>\n",
       "    .dataframe tbody tr th:only-of-type {\n",
       "        vertical-align: middle;\n",
       "    }\n",
       "\n",
       "    .dataframe tbody tr th {\n",
       "        vertical-align: top;\n",
       "    }\n",
       "\n",
       "    .dataframe thead th {\n",
       "        text-align: right;\n",
       "    }\n",
       "</style>\n",
       "<table border=\"1\" class=\"dataframe\">\n",
       "  <thead>\n",
       "    <tr style=\"text-align: right;\">\n",
       "      <th></th>\n",
       "      <th>Program_Desc</th>\n",
       "      <th>Deposit_Date</th>\n",
       "      <th>Month</th>\n",
       "      <th>Year</th>\n",
       "      <th>Program_Desc_Final</th>\n",
       "    </tr>\n",
       "  </thead>\n",
       "  <tbody>\n",
       "    <tr>\n",
       "      <th>4</th>\n",
       "      <td>Real Estate Development - MS</td>\n",
       "      <td>2022-01-11 00:00:00</td>\n",
       "      <td>2022-01</td>\n",
       "      <td>2022</td>\n",
       "      <td>Real Estate Development - MS</td>\n",
       "    </tr>\n",
       "    <tr>\n",
       "      <th>10</th>\n",
       "      <td>Management - MS</td>\n",
       "      <td>2022-06-30 00:00:00</td>\n",
       "      <td>2022-06</td>\n",
       "      <td>2022</td>\n",
       "      <td>Management - MS</td>\n",
       "    </tr>\n",
       "    <tr>\n",
       "      <th>15</th>\n",
       "      <td>Business Adminstration - MBA</td>\n",
       "      <td>2019-07-28 00:00:00</td>\n",
       "      <td>2019-07</td>\n",
       "      <td>2019</td>\n",
       "      <td>Business Administration - MBA</td>\n",
       "    </tr>\n",
       "    <tr>\n",
       "      <th>16</th>\n",
       "      <td>Real Estate Development - MS</td>\n",
       "      <td>2020-10-29 00:00:00</td>\n",
       "      <td>2020-10</td>\n",
       "      <td>2020</td>\n",
       "      <td>Real Estate Development - MS</td>\n",
       "    </tr>\n",
       "    <tr>\n",
       "      <th>19</th>\n",
       "      <td>Management - MS</td>\n",
       "      <td>2020-04-13 00:00:00</td>\n",
       "      <td>2020-04</td>\n",
       "      <td>2020</td>\n",
       "      <td>Management - MS</td>\n",
       "    </tr>\n",
       "    <tr>\n",
       "      <th>...</th>\n",
       "      <td>...</td>\n",
       "      <td>...</td>\n",
       "      <td>...</td>\n",
       "      <td>...</td>\n",
       "      <td>...</td>\n",
       "    </tr>\n",
       "    <tr>\n",
       "      <th>2351</th>\n",
       "      <td>Business Administration - MBA</td>\n",
       "      <td>2022-06-01 14:13:00</td>\n",
       "      <td>2022-06</td>\n",
       "      <td>2022</td>\n",
       "      <td>Business Administration - MBA</td>\n",
       "    </tr>\n",
       "    <tr>\n",
       "      <th>2355</th>\n",
       "      <td>Accounting - MS</td>\n",
       "      <td>2019-08-24 00:00:00</td>\n",
       "      <td>2019-08</td>\n",
       "      <td>2019</td>\n",
       "      <td>Accounting MS</td>\n",
       "    </tr>\n",
       "    <tr>\n",
       "      <th>2356</th>\n",
       "      <td>Business Administration - MBA</td>\n",
       "      <td>2020-04-16 00:00:00</td>\n",
       "      <td>2020-04</td>\n",
       "      <td>2020</td>\n",
       "      <td>Business Administration - MBA</td>\n",
       "    </tr>\n",
       "    <tr>\n",
       "      <th>2359</th>\n",
       "      <td>Business Administration - MBA</td>\n",
       "      <td>2021-02-03 00:00:00</td>\n",
       "      <td>2021-02</td>\n",
       "      <td>2021</td>\n",
       "      <td>Business Administration - MBA</td>\n",
       "    </tr>\n",
       "    <tr>\n",
       "      <th>2360</th>\n",
       "      <td>Accounting - MS</td>\n",
       "      <td>2022-05-18 00:00:00</td>\n",
       "      <td>2022-05</td>\n",
       "      <td>2022</td>\n",
       "      <td>Accounting MS</td>\n",
       "    </tr>\n",
       "  </tbody>\n",
       "</table>\n",
       "<p>948 rows × 5 columns</p>\n",
       "</div>"
      ],
      "text/plain": [
       "                       Program_Desc        Deposit_Date    Month  Year  \\\n",
       "4      Real Estate Development - MS 2022-01-11 00:00:00  2022-01  2022   \n",
       "10                  Management - MS 2022-06-30 00:00:00  2022-06  2022   \n",
       "15     Business Adminstration - MBA 2019-07-28 00:00:00  2019-07  2019   \n",
       "16     Real Estate Development - MS 2020-10-29 00:00:00  2020-10  2020   \n",
       "19                  Management - MS 2020-04-13 00:00:00  2020-04  2020   \n",
       "...                             ...                 ...      ...   ...   \n",
       "2351  Business Administration - MBA 2022-06-01 14:13:00  2022-06  2022   \n",
       "2355                Accounting - MS 2019-08-24 00:00:00  2019-08  2019   \n",
       "2356  Business Administration - MBA 2020-04-16 00:00:00  2020-04  2020   \n",
       "2359  Business Administration - MBA 2021-02-03 00:00:00  2021-02  2021   \n",
       "2360                Accounting - MS 2022-05-18 00:00:00  2022-05  2022   \n",
       "\n",
       "                 Program_Desc_Final  \n",
       "4      Real Estate Development - MS  \n",
       "10                  Management - MS  \n",
       "15    Business Administration - MBA  \n",
       "16     Real Estate Development - MS  \n",
       "19                  Management - MS  \n",
       "...                             ...  \n",
       "2351  Business Administration - MBA  \n",
       "2355                  Accounting MS  \n",
       "2356  Business Administration - MBA  \n",
       "2359  Business Administration - MBA  \n",
       "2360                  Accounting MS  \n",
       "\n",
       "[948 rows x 5 columns]"
      ]
     },
     "execution_count": 11,
     "metadata": {},
     "output_type": "execute_result"
    }
   ],
   "source": [
    "Program_name=pd.DataFrame()\n",
    "\n",
    "for unique_values in unique_branch:\n",
    "    comparision_string = unique_values\n",
    "    Program_name[unique_values] = data_1['Program_Desc'].apply(compare_with_array)\n",
    "\n",
    "Program_name['Final']=Program_name[['Accounting MS','Business Administration - MBA','Real Estate Development - MS','Business - PHD','Finance - MS','Management - MS','Technology Management - MS']].idxmax(axis=1)\n",
    "Program_name\n",
    "        \n",
    "# data_1['Accounting MS']=data_1['Program_Desc'].apply(compare_with_array)\n",
    "data_1['Program_Desc_Final']=Program_name['Final']\n",
    "data_1['Year'] = data_1['Deposit_Date'].dt.strftime('%Y')\n",
    "data_1"
   ]
  },
  {
   "cell_type": "markdown",
   "metadata": {},
   "source": [
    "Let us select the new column and plot in order to check the Program description final"
   ]
  },
  {
   "cell_type": "code",
   "execution_count": 12,
   "metadata": {},
   "outputs": [],
   "source": [
    "data_1 = data_1.drop('Program_Desc', axis=1)"
   ]
  },
  {
   "cell_type": "code",
   "execution_count": 13,
   "metadata": {},
   "outputs": [
    {
     "data": {
      "text/html": [
       "<div>\n",
       "<style scoped>\n",
       "    .dataframe tbody tr th:only-of-type {\n",
       "        vertical-align: middle;\n",
       "    }\n",
       "\n",
       "    .dataframe tbody tr th {\n",
       "        vertical-align: top;\n",
       "    }\n",
       "\n",
       "    .dataframe thead th {\n",
       "        text-align: right;\n",
       "    }\n",
       "</style>\n",
       "<table border=\"1\" class=\"dataframe\">\n",
       "  <thead>\n",
       "    <tr style=\"text-align: right;\">\n",
       "      <th></th>\n",
       "      <th>Deposit_Date</th>\n",
       "      <th>Month</th>\n",
       "      <th>Year</th>\n",
       "      <th>Program_Desc_Final</th>\n",
       "    </tr>\n",
       "  </thead>\n",
       "  <tbody>\n",
       "    <tr>\n",
       "      <th>4</th>\n",
       "      <td>2022-01-11 00:00:00</td>\n",
       "      <td>2022-01</td>\n",
       "      <td>2022</td>\n",
       "      <td>Real Estate Development - MS</td>\n",
       "    </tr>\n",
       "    <tr>\n",
       "      <th>10</th>\n",
       "      <td>2022-06-30 00:00:00</td>\n",
       "      <td>2022-06</td>\n",
       "      <td>2022</td>\n",
       "      <td>Management - MS</td>\n",
       "    </tr>\n",
       "    <tr>\n",
       "      <th>15</th>\n",
       "      <td>2019-07-28 00:00:00</td>\n",
       "      <td>2019-07</td>\n",
       "      <td>2019</td>\n",
       "      <td>Business Administration - MBA</td>\n",
       "    </tr>\n",
       "    <tr>\n",
       "      <th>16</th>\n",
       "      <td>2020-10-29 00:00:00</td>\n",
       "      <td>2020-10</td>\n",
       "      <td>2020</td>\n",
       "      <td>Real Estate Development - MS</td>\n",
       "    </tr>\n",
       "    <tr>\n",
       "      <th>19</th>\n",
       "      <td>2020-04-13 00:00:00</td>\n",
       "      <td>2020-04</td>\n",
       "      <td>2020</td>\n",
       "      <td>Management - MS</td>\n",
       "    </tr>\n",
       "    <tr>\n",
       "      <th>...</th>\n",
       "      <td>...</td>\n",
       "      <td>...</td>\n",
       "      <td>...</td>\n",
       "      <td>...</td>\n",
       "    </tr>\n",
       "    <tr>\n",
       "      <th>2351</th>\n",
       "      <td>2022-06-01 14:13:00</td>\n",
       "      <td>2022-06</td>\n",
       "      <td>2022</td>\n",
       "      <td>Business Administration - MBA</td>\n",
       "    </tr>\n",
       "    <tr>\n",
       "      <th>2355</th>\n",
       "      <td>2019-08-24 00:00:00</td>\n",
       "      <td>2019-08</td>\n",
       "      <td>2019</td>\n",
       "      <td>Accounting MS</td>\n",
       "    </tr>\n",
       "    <tr>\n",
       "      <th>2356</th>\n",
       "      <td>2020-04-16 00:00:00</td>\n",
       "      <td>2020-04</td>\n",
       "      <td>2020</td>\n",
       "      <td>Business Administration - MBA</td>\n",
       "    </tr>\n",
       "    <tr>\n",
       "      <th>2359</th>\n",
       "      <td>2021-02-03 00:00:00</td>\n",
       "      <td>2021-02</td>\n",
       "      <td>2021</td>\n",
       "      <td>Business Administration - MBA</td>\n",
       "    </tr>\n",
       "    <tr>\n",
       "      <th>2360</th>\n",
       "      <td>2022-05-18 00:00:00</td>\n",
       "      <td>2022-05</td>\n",
       "      <td>2022</td>\n",
       "      <td>Accounting MS</td>\n",
       "    </tr>\n",
       "  </tbody>\n",
       "</table>\n",
       "<p>948 rows × 4 columns</p>\n",
       "</div>"
      ],
      "text/plain": [
       "            Deposit_Date    Month  Year             Program_Desc_Final\n",
       "4    2022-01-11 00:00:00  2022-01  2022   Real Estate Development - MS\n",
       "10   2022-06-30 00:00:00  2022-06  2022                Management - MS\n",
       "15   2019-07-28 00:00:00  2019-07  2019  Business Administration - MBA\n",
       "16   2020-10-29 00:00:00  2020-10  2020   Real Estate Development - MS\n",
       "19   2020-04-13 00:00:00  2020-04  2020                Management - MS\n",
       "...                  ...      ...   ...                            ...\n",
       "2351 2022-06-01 14:13:00  2022-06  2022  Business Administration - MBA\n",
       "2355 2019-08-24 00:00:00  2019-08  2019                  Accounting MS\n",
       "2356 2020-04-16 00:00:00  2020-04  2020  Business Administration - MBA\n",
       "2359 2021-02-03 00:00:00  2021-02  2021  Business Administration - MBA\n",
       "2360 2022-05-18 00:00:00  2022-05  2022                  Accounting MS\n",
       "\n",
       "[948 rows x 4 columns]"
      ]
     },
     "execution_count": 13,
     "metadata": {},
     "output_type": "execute_result"
    }
   ],
   "source": [
    "data_1"
   ]
  },
  {
   "cell_type": "code",
   "execution_count": 14,
   "metadata": {},
   "outputs": [
    {
     "data": {
      "text/plain": [
       "<Figure size 600x600 with 0 Axes>"
      ]
     },
     "metadata": {},
     "output_type": "display_data"
    },
    {
     "data": {
      "image/png": "[encoded data removed]",
      "text/plain": [
       "<Figure size 640x480 with 1 Axes>"
      ]
     },
     "metadata": {},
     "output_type": "display_data"
    }
   ],
   "source": [
    "program_year_counts = data_1.groupby(['Year', 'Program_Desc_Final']).size().unstack(fill_value=0)\n",
    "\n",
    "plt.figure(figsize=(6,6))\n",
    "program_year_counts.plot(kind='bar', stacked=True)\n",
    "plt.xlabel('Year')\n",
    "plt.ylabel('Count')\n",
    "plt.title('Count of Deposits by Program and Year')\n",
    "plt.legend(title='Program', loc='upper left', bbox_to_anchor=(1,1))\n",
    "plt.xticks(rotation=45)  # Rotate x-axis labels for readability\n",
    "plt.show()"
   ]
  },
  {
   "cell_type": "markdown",
   "metadata": {},
   "source": [
    "Hence there are no repeatition of values in the dataframe. Let us now save the data into csv"
   ]
  },
  {
   "cell_type": "code",
   "execution_count": 15,
   "metadata": {},
   "outputs": [],
   "source": [
    "data_1.to_csv(\"Deposits_year.csv\")"
   ]
  }
 ],
 "metadata": {
  "kernelspec": {
   "display_name": "base",
   "language": "python",
   "name": "python3"
  },
  "language_info": {
   "codemirror_mode": {
    "name": "ipython",
    "version": 3
   },
   "file_extension": ".py",
   "mimetype": "text/x-python",
   "name": "python",
   "nbconvert_exporter": "python",
   "pygments_lexer": "ipython3",
   "version": "3.10.9"
  }
 },
 "nbformat": 4,
 "nbformat_minor": 2
}
